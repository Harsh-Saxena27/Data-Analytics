{
 "cells": [
  {
   "cell_type": "markdown",
   "id": "ed69ffbe",
   "metadata": {},
   "source": [
    "My Jupyter Notebook"
   ]
  },
  {
   "cell_type": "markdown",
   "id": "c626b8c8",
   "metadata": {},
   "source": [
    "# Harsh Saxena\n",
    "Data Scientist"
   ]
  },
  {
   "cell_type": "code",
   "execution_count": 1,
   "id": "c74c1095",
   "metadata": {},
   "outputs": [],
   "source": [
    "# As we from above of the technologies, there are many professions but the Data Science is one of the those technology in\n",
    "# which there are so many things from collecting the data to the deployment of the model, there are several steps to find\n",
    "# out the solutions as well as many tools are there to find out the solutions I really want to become Data Scientist, In my\n",
    "# point of view I thing that to learn the Data Science from scratch to the pro it will take atleast 1-1.5 years but for \n",
    "# achieving this goal I need give all my efforts. Data Science is pretty much interesting like from the raw data we do the \n",
    "# analysis on them through pyton libraries such as numpy, pandas and fetch the insights from the data after that the main \n",
    "# thing is very interesting to shows our skills through out the visualization that is happen through the python visualization\n",
    "# libraries or R. \n"
   ]
  },
  {
   "cell_type": "markdown",
   "id": "c093fc36",
   "metadata": {},
   "source": [
    "The below code store the numbers in a list of variable x."
   ]
  },
  {
   "cell_type": "code",
   "execution_count": 2,
   "id": "23ae9017",
   "metadata": {},
   "outputs": [
    {
     "name": "stdout",
     "output_type": "stream",
     "text": [
      "[10, 20, 30, 40, 50]\n"
     ]
    }
   ],
   "source": [
    "x = [10,20,30,40,50]\n",
    "print(x)"
   ]
  },
  {
   "cell_type": "markdown",
   "id": "d1d1cf1b",
   "metadata": {},
   "source": [
    "***\n",
    "This is Horizontal rule\n",
    "***"
   ]
  },
  {
   "cell_type": "markdown",
   "id": "9e05da75",
   "metadata": {},
   "source": [
    "* This is bulleted list\n",
    "* This is bulleted list\n",
    "* This is bulleted list"
   ]
  },
  {
   "cell_type": "markdown",
   "id": "dcd82a1c",
   "metadata": {},
   "source": [
    "1. This is number 1\n",
    "2. This is number 2\n",
    "3. This is number 3"
   ]
  },
  {
   "cell_type": "code",
   "execution_count": null,
   "id": "a0318746",
   "metadata": {},
   "outputs": [],
   "source": []
  }
 ],
 "metadata": {
  "kernelspec": {
   "display_name": "Python 3 (ipykernel)",
   "language": "python",
   "name": "python3"
  },
  "language_info": {
   "codemirror_mode": {
    "name": "ipython",
    "version": 3
   },
   "file_extension": ".py",
   "mimetype": "text/x-python",
   "name": "python",
   "nbconvert_exporter": "python",
   "pygments_lexer": "ipython3",
   "version": "3.10.5"
  }
 },
 "nbformat": 4,
 "nbformat_minor": 5
}
